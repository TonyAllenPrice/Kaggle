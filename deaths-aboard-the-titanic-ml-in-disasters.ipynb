{
 "cells": [
  {
   "cell_type": "code",
   "execution_count": 1,
   "metadata": {
    "_cell_guid": "b1076dfc-b9ad-4769-8c92-a6c4dae69d19",
    "_uuid": "8f2839f25d086af736a60e9eeb907d3b93b6e0e5",
    "execution": {
     "iopub.execute_input": "2020-10-25T21:35:29.821247Z",
     "iopub.status.busy": "2020-10-25T21:35:29.820563Z",
     "iopub.status.idle": "2020-10-25T21:35:30.747288Z",
     "shell.execute_reply": "2020-10-25T21:35:30.748109Z"
    },
    "papermill": {
     "duration": 0.963828,
     "end_time": "2020-10-25T21:35:30.748283",
     "exception": false,
     "start_time": "2020-10-25T21:35:29.784455",
     "status": "completed"
    },
    "tags": []
   },
   "outputs": [
    {
     "name": "stdout",
     "output_type": "stream",
     "text": [
      "/kaggle/input/titanic/gender_submission.csv\n",
      "/kaggle/input/titanic/test.csv\n",
      "/kaggle/input/titanic/train.csv\n"
     ]
    }
   ],
   "source": [
    "# This Python 3 environment comes with many helpful analytics libraries installed\n",
    "# It is defined by the kaggle/python Docker image: https://github.com/kaggle/docker-python\n",
    "# For example, here's several helpful packages to load\n",
    "\n",
    "import numpy as np # linear algebra\n",
    "import pandas as pd # data processing, CSV file I/O (e.g. pd.read_csv)\n",
    "import matplotlib as mpl # plotting data\n",
    "import matplotlib.pyplot as plt # plotting data\n",
    "import seaborn as sns # plotting\n",
    "\n",
    "# Input data files are available in the read-only \"../input/\" directory\n",
    "# For example, running this (by clicking run or pressing Shift+Enter) will list all files under the input directory\n",
    "\n",
    "import os\n",
    "for dirname, _, filenames in os.walk('/kaggle/input'):\n",
    "    for filename in filenames:\n",
    "        print(os.path.join(dirname, filename))\n",
    "\n",
    "# You can write up to 5GB to the current directory (/kaggle/working/) that gets preserved as output when you create a version using \"Save & Run All\" \n",
    "# You can also write temporary files to /kaggle/temp/, but they won't be saved outside of the current session"
   ]
  },
  {
   "cell_type": "markdown",
   "metadata": {
    "papermill": {
     "duration": 0.042798,
     "end_time": "2020-10-25T21:35:30.820660",
     "exception": false,
     "start_time": "2020-10-25T21:35:30.777862",
     "status": "completed"
    },
    "tags": []
   },
   "source": [
    "# Would these people have survived the Titanic?\n",
    "\n",
    "This notebook serves as the predominate repository for my work on the Kaggle comeptition about the Titanic. It will contain all of my code and analysis for that purpose. Let's hope it doesn't share the same fate of the ship did!\n",
    "\n",
    "## The Challenge\n",
    "\n",
    "The sinking of the Titanic is one of the most infamous shipwrecks in history.\n",
    "\n",
    "On April 15, 1912, during her maiden voyage, the widely considered “unsinkable” RMS Titanic sank after colliding with an iceberg. Unfortunately, there weren’t enough lifeboats for everyone onboard, resulting in the death of 1502 out of 2224 passengers and crew.\n",
    "\n",
    "While there was some element of luck involved in surviving, it seems some groups of people were more likely to survive than others.\n",
    "\n",
    "In this challenge, we ask you to build a predictive model that answers the question: “what sorts of people were more likely to survive?” using passenger data (ie name, age, gender, socio-economic class, etc).\n",
    "\n",
    "## The Data\n",
    "\n",
    "In this competition, you’ll gain access to two similar datasets that include passenger information like name, age, gender, socio-economic class, etc. One dataset is titled `train.csv` and the other is titled `test.csv`.\n",
    "\n",
    "`train.csv` will contain the details of a subset of the passengers on board (891 to be exact) and importantly, will reveal whether they survived or not, also known as the “ground truth”.\n",
    "\n",
    "The `test.csv` dataset contains similar information but does not disclose the “ground truth” for each passenger. It’s your job to predict these outcomes.\n",
    "\n",
    "Using the patterns you find in the train.csv data, predict whether the other 418 passengers on board (found in test.csv) survived.\n",
    "\n",
    "Let's start by looking at the data in the training set, ```train.csv```. My preferred format is a *pandas* dataframe, so let's use that."
   ]
  },
  {
   "cell_type": "code",
   "execution_count": 2,
   "metadata": {
    "execution": {
     "iopub.execute_input": "2020-10-25T21:35:30.881965Z",
     "iopub.status.busy": "2020-10-25T21:35:30.881305Z",
     "iopub.status.idle": "2020-10-25T21:35:30.920887Z",
     "shell.execute_reply": "2020-10-25T21:35:30.921848Z"
    },
    "papermill": {
     "duration": 0.07317,
     "end_time": "2020-10-25T21:35:30.921995",
     "exception": false,
     "start_time": "2020-10-25T21:35:30.848825",
     "status": "completed"
    },
    "tags": []
   },
   "outputs": [
    {
     "data": {
      "text/html": [
       "<div>\n",
       "<style scoped>\n",
       "    .dataframe tbody tr th:only-of-type {\n",
       "        vertical-align: middle;\n",
       "    }\n",
       "\n",
       "    .dataframe tbody tr th {\n",
       "        vertical-align: top;\n",
       "    }\n",
       "\n",
       "    .dataframe thead th {\n",
       "        text-align: right;\n",
       "    }\n",
       "</style>\n",
       "<table border=\"1\" class=\"dataframe\">\n",
       "  <thead>\n",
       "    <tr style=\"text-align: right;\">\n",
       "      <th></th>\n",
       "      <th>PassengerId</th>\n",
       "      <th>Survived</th>\n",
       "      <th>Pclass</th>\n",
       "      <th>Name</th>\n",
       "      <th>Sex</th>\n",
       "      <th>Age</th>\n",
       "      <th>SibSp</th>\n",
       "      <th>Parch</th>\n",
       "      <th>Ticket</th>\n",
       "      <th>Fare</th>\n",
       "      <th>Cabin</th>\n",
       "      <th>Embarked</th>\n",
       "    </tr>\n",
       "  </thead>\n",
       "  <tbody>\n",
       "    <tr>\n",
       "      <th>0</th>\n",
       "      <td>1</td>\n",
       "      <td>0</td>\n",
       "      <td>3</td>\n",
       "      <td>Braund, Mr. Owen Harris</td>\n",
       "      <td>male</td>\n",
       "      <td>22.0</td>\n",
       "      <td>1</td>\n",
       "      <td>0</td>\n",
       "      <td>A/5 21171</td>\n",
       "      <td>7.2500</td>\n",
       "      <td>NaN</td>\n",
       "      <td>S</td>\n",
       "    </tr>\n",
       "    <tr>\n",
       "      <th>1</th>\n",
       "      <td>2</td>\n",
       "      <td>1</td>\n",
       "      <td>1</td>\n",
       "      <td>Cumings, Mrs. John Bradley (Florence Briggs Th...</td>\n",
       "      <td>female</td>\n",
       "      <td>38.0</td>\n",
       "      <td>1</td>\n",
       "      <td>0</td>\n",
       "      <td>PC 17599</td>\n",
       "      <td>71.2833</td>\n",
       "      <td>C85</td>\n",
       "      <td>C</td>\n",
       "    </tr>\n",
       "    <tr>\n",
       "      <th>2</th>\n",
       "      <td>3</td>\n",
       "      <td>1</td>\n",
       "      <td>3</td>\n",
       "      <td>Heikkinen, Miss. Laina</td>\n",
       "      <td>female</td>\n",
       "      <td>26.0</td>\n",
       "      <td>0</td>\n",
       "      <td>0</td>\n",
       "      <td>STON/O2. 3101282</td>\n",
       "      <td>7.9250</td>\n",
       "      <td>NaN</td>\n",
       "      <td>S</td>\n",
       "    </tr>\n",
       "    <tr>\n",
       "      <th>3</th>\n",
       "      <td>4</td>\n",
       "      <td>1</td>\n",
       "      <td>1</td>\n",
       "      <td>Futrelle, Mrs. Jacques Heath (Lily May Peel)</td>\n",
       "      <td>female</td>\n",
       "      <td>35.0</td>\n",
       "      <td>1</td>\n",
       "      <td>0</td>\n",
       "      <td>113803</td>\n",
       "      <td>53.1000</td>\n",
       "      <td>C123</td>\n",
       "      <td>S</td>\n",
       "    </tr>\n",
       "    <tr>\n",
       "      <th>4</th>\n",
       "      <td>5</td>\n",
       "      <td>0</td>\n",
       "      <td>3</td>\n",
       "      <td>Allen, Mr. William Henry</td>\n",
       "      <td>male</td>\n",
       "      <td>35.0</td>\n",
       "      <td>0</td>\n",
       "      <td>0</td>\n",
       "      <td>373450</td>\n",
       "      <td>8.0500</td>\n",
       "      <td>NaN</td>\n",
       "      <td>S</td>\n",
       "    </tr>\n",
       "    <tr>\n",
       "      <th>...</th>\n",
       "      <td>...</td>\n",
       "      <td>...</td>\n",
       "      <td>...</td>\n",
       "      <td>...</td>\n",
       "      <td>...</td>\n",
       "      <td>...</td>\n",
       "      <td>...</td>\n",
       "      <td>...</td>\n",
       "      <td>...</td>\n",
       "      <td>...</td>\n",
       "      <td>...</td>\n",
       "      <td>...</td>\n",
       "    </tr>\n",
       "    <tr>\n",
       "      <th>886</th>\n",
       "      <td>887</td>\n",
       "      <td>0</td>\n",
       "      <td>2</td>\n",
       "      <td>Montvila, Rev. Juozas</td>\n",
       "      <td>male</td>\n",
       "      <td>27.0</td>\n",
       "      <td>0</td>\n",
       "      <td>0</td>\n",
       "      <td>211536</td>\n",
       "      <td>13.0000</td>\n",
       "      <td>NaN</td>\n",
       "      <td>S</td>\n",
       "    </tr>\n",
       "    <tr>\n",
       "      <th>887</th>\n",
       "      <td>888</td>\n",
       "      <td>1</td>\n",
       "      <td>1</td>\n",
       "      <td>Graham, Miss. Margaret Edith</td>\n",
       "      <td>female</td>\n",
       "      <td>19.0</td>\n",
       "      <td>0</td>\n",
       "      <td>0</td>\n",
       "      <td>112053</td>\n",
       "      <td>30.0000</td>\n",
       "      <td>B42</td>\n",
       "      <td>S</td>\n",
       "    </tr>\n",
       "    <tr>\n",
       "      <th>888</th>\n",
       "      <td>889</td>\n",
       "      <td>0</td>\n",
       "      <td>3</td>\n",
       "      <td>Johnston, Miss. Catherine Helen \"Carrie\"</td>\n",
       "      <td>female</td>\n",
       "      <td>NaN</td>\n",
       "      <td>1</td>\n",
       "      <td>2</td>\n",
       "      <td>W./C. 6607</td>\n",
       "      <td>23.4500</td>\n",
       "      <td>NaN</td>\n",
       "      <td>S</td>\n",
       "    </tr>\n",
       "    <tr>\n",
       "      <th>889</th>\n",
       "      <td>890</td>\n",
       "      <td>1</td>\n",
       "      <td>1</td>\n",
       "      <td>Behr, Mr. Karl Howell</td>\n",
       "      <td>male</td>\n",
       "      <td>26.0</td>\n",
       "      <td>0</td>\n",
       "      <td>0</td>\n",
       "      <td>111369</td>\n",
       "      <td>30.0000</td>\n",
       "      <td>C148</td>\n",
       "      <td>C</td>\n",
       "    </tr>\n",
       "    <tr>\n",
       "      <th>890</th>\n",
       "      <td>891</td>\n",
       "      <td>0</td>\n",
       "      <td>3</td>\n",
       "      <td>Dooley, Mr. Patrick</td>\n",
       "      <td>male</td>\n",
       "      <td>32.0</td>\n",
       "      <td>0</td>\n",
       "      <td>0</td>\n",
       "      <td>370376</td>\n",
       "      <td>7.7500</td>\n",
       "      <td>NaN</td>\n",
       "      <td>Q</td>\n",
       "    </tr>\n",
       "  </tbody>\n",
       "</table>\n",
       "<p>891 rows × 12 columns</p>\n",
       "</div>"
      ],
      "text/plain": [
       "     PassengerId  Survived  Pclass  \\\n",
       "0              1         0       3   \n",
       "1              2         1       1   \n",
       "2              3         1       3   \n",
       "3              4         1       1   \n",
       "4              5         0       3   \n",
       "..           ...       ...     ...   \n",
       "886          887         0       2   \n",
       "887          888         1       1   \n",
       "888          889         0       3   \n",
       "889          890         1       1   \n",
       "890          891         0       3   \n",
       "\n",
       "                                                  Name     Sex   Age  SibSp  \\\n",
       "0                              Braund, Mr. Owen Harris    male  22.0      1   \n",
       "1    Cumings, Mrs. John Bradley (Florence Briggs Th...  female  38.0      1   \n",
       "2                               Heikkinen, Miss. Laina  female  26.0      0   \n",
       "3         Futrelle, Mrs. Jacques Heath (Lily May Peel)  female  35.0      1   \n",
       "4                             Allen, Mr. William Henry    male  35.0      0   \n",
       "..                                                 ...     ...   ...    ...   \n",
       "886                              Montvila, Rev. Juozas    male  27.0      0   \n",
       "887                       Graham, Miss. Margaret Edith  female  19.0      0   \n",
       "888           Johnston, Miss. Catherine Helen \"Carrie\"  female   NaN      1   \n",
       "889                              Behr, Mr. Karl Howell    male  26.0      0   \n",
       "890                                Dooley, Mr. Patrick    male  32.0      0   \n",
       "\n",
       "     Parch            Ticket     Fare Cabin Embarked  \n",
       "0        0         A/5 21171   7.2500   NaN        S  \n",
       "1        0          PC 17599  71.2833   C85        C  \n",
       "2        0  STON/O2. 3101282   7.9250   NaN        S  \n",
       "3        0            113803  53.1000  C123        S  \n",
       "4        0            373450   8.0500   NaN        S  \n",
       "..     ...               ...      ...   ...      ...  \n",
       "886      0            211536  13.0000   NaN        S  \n",
       "887      0            112053  30.0000   B42        S  \n",
       "888      2        W./C. 6607  23.4500   NaN        S  \n",
       "889      0            111369  30.0000  C148        C  \n",
       "890      0            370376   7.7500   NaN        Q  \n",
       "\n",
       "[891 rows x 12 columns]"
      ]
     },
     "execution_count": 2,
     "metadata": {},
     "output_type": "execute_result"
    }
   ],
   "source": [
    "df_train = pd.read_csv('/kaggle/input/titanic/train.csv')\n",
    "df_train"
   ]
  },
  {
   "attachments": {
    "image.png": {
     "image/png": "[encoded data removed]"
    }
   },
   "cell_type": "markdown",
   "metadata": {
    "papermill": {
     "duration": 0.028263,
     "end_time": "2020-10-25T21:35:30.979279",
     "exception": false,
     "start_time": "2020-10-25T21:35:30.951016",
     "status": "completed"
    },
    "tags": []
   },
   "source": [
    "We can see that there are some interesting data points here. We can see the surival of passengers, passenger class, name, sex, age, siblings/spouses, parents/children, ticket number, fare paid, cabin number, and embarkcation point. I think we may need a structure to help us remember what all of these variables mean, so let's make sure we have that.\n",
    "\n",
    "![image.png](attachment:image.png)\n",
    "\n",
    "Okay, so now we know what we are looking at. Before we can build a model to predict the surivival chance of individuals, we have to better understand this data set. We'll start by looking at some basic information."
   ]
  },
  {
   "cell_type": "code",
   "execution_count": 3,
   "metadata": {
    "_cell_guid": "79c7e3d0-c299-4dcb-8224-4455121ee9b0",
    "_uuid": "d629ff2d2480ee46fbb7e2d37f6b5fab8052498a",
    "execution": {
     "iopub.execute_input": "2020-10-25T21:35:31.043472Z",
     "iopub.status.busy": "2020-10-25T21:35:31.042811Z",
     "iopub.status.idle": "2020-10-25T21:35:31.047030Z",
     "shell.execute_reply": "2020-10-25T21:35:31.046487Z"
    },
    "papermill": {
     "duration": 0.039192,
     "end_time": "2020-10-25T21:35:31.047136",
     "exception": false,
     "start_time": "2020-10-25T21:35:31.007944",
     "status": "completed"
    },
    "tags": []
   },
   "outputs": [
    {
     "data": {
      "text/plain": [
       "0    549\n",
       "1    342\n",
       "Name: Survived, dtype: int64"
      ]
     },
     "execution_count": 3,
     "metadata": {},
     "output_type": "execute_result"
    }
   ],
   "source": [
    "df_train['Survived'].value_counts()"
   ]
  },
  {
   "cell_type": "code",
   "execution_count": 4,
   "metadata": {
    "execution": {
     "iopub.execute_input": "2020-10-25T21:35:31.111597Z",
     "iopub.status.busy": "2020-10-25T21:35:31.110771Z",
     "iopub.status.idle": "2020-10-25T21:35:31.248673Z",
     "shell.execute_reply": "2020-10-25T21:35:31.248124Z"
    },
    "papermill": {
     "duration": 0.172195,
     "end_time": "2020-10-25T21:35:31.248789",
     "exception": false,
     "start_time": "2020-10-25T21:35:31.076594",
     "status": "completed"
    },
    "tags": []
   },
   "outputs": [
    {
     "data": {
      "text/plain": [
       "<matplotlib.axes._subplots.AxesSubplot at 0x7f1191f77fd0>"
      ]
     },
     "execution_count": 4,
     "metadata": {},
     "output_type": "execute_result"
    },
    {
     "data": {
      "image/png": "[encoded data removed]",
      "text/plain": [
       "<Figure size 432x288 with 1 Axes>"
      ]
     },
     "metadata": {
      "needs_background": "light"
     },
     "output_type": "display_data"
    }
   ],
   "source": [
    "#Visualize the survival counts\n",
    "sns.countplot(df_train['Survived'],label='Count')"
   ]
  },
  {
   "cell_type": "markdown",
   "metadata": {
    "papermill": {
     "duration": 0.030846,
     "end_time": "2020-10-25T21:35:31.310397",
     "exception": false,
     "start_time": "2020-10-25T21:35:31.279551",
     "status": "completed"
    },
    "tags": []
   },
   "source": [
    "So this tells use what the distribution of **survivors** looks like the in the ```train.csv``` data. We need to know more about the individuals. Let's start by looking at sex."
   ]
  },
  {
   "cell_type": "code",
   "execution_count": 5,
   "metadata": {
    "execution": {
     "iopub.execute_input": "2020-10-25T21:35:31.383705Z",
     "iopub.status.busy": "2020-10-25T21:35:31.377123Z",
     "iopub.status.idle": "2020-10-25T21:35:31.480782Z",
     "shell.execute_reply": "2020-10-25T21:35:31.480242Z"
    },
    "papermill": {
     "duration": 0.140143,
     "end_time": "2020-10-25T21:35:31.480896",
     "exception": false,
     "start_time": "2020-10-25T21:35:31.340753",
     "status": "completed"
    },
    "tags": []
   },
   "outputs": [
    {
     "data": {
      "text/plain": [
       "<matplotlib.axes._subplots.AxesSubplot at 0x7f118b1ef050>"
      ]
     },
     "execution_count": 5,
     "metadata": {},
     "output_type": "execute_result"
    },
    {
     "data": {
      "image/png": "[encoded data removed]",
      "text/plain": [
       "<Figure size 432x288 with 1 Axes>"
      ]
     },
     "metadata": {
      "needs_background": "light"
     },
     "output_type": "display_data"
    }
   ],
   "source": [
    "sns.countplot(df_train['Sex'],label='Count')"
   ]
  },
  {
   "cell_type": "markdown",
   "metadata": {
    "papermill": {
     "duration": 0.030635,
     "end_time": "2020-10-25T21:35:31.542784",
     "exception": false,
     "start_time": "2020-10-25T21:35:31.512149",
     "status": "completed"
    },
    "tags": []
   },
   "source": [
    "So that's the whole distribution, or everyone in the data set, but what about just the survivors?"
   ]
  },
  {
   "cell_type": "code",
   "execution_count": 6,
   "metadata": {
    "execution": {
     "iopub.execute_input": "2020-10-25T21:35:31.617211Z",
     "iopub.status.busy": "2020-10-25T21:35:31.616143Z",
     "iopub.status.idle": "2020-10-25T21:35:31.763826Z",
     "shell.execute_reply": "2020-10-25T21:35:31.763236Z"
    },
    "papermill": {
     "duration": 0.189912,
     "end_time": "2020-10-25T21:35:31.763942",
     "exception": false,
     "start_time": "2020-10-25T21:35:31.574030",
     "status": "completed"
    },
    "tags": []
   },
   "outputs": [
    {
     "data": {
      "image/png": "[encoded data removed]",
      "text/plain": [
       "<Figure size 720x720 with 1 Axes>"
      ]
     },
     "metadata": {
      "needs_background": "light"
     },
     "output_type": "display_data"
    }
   ],
   "source": [
    "plt.subplots(figsize=(10,10))\n",
    "sns.countplot('Sex',hue='Survived',data=df_train,palette='RdBu_r')\n",
    "plt.show()"
   ]
  },
  {
   "cell_type": "markdown",
   "metadata": {
    "papermill": {
     "duration": 0.031286,
     "end_time": "2020-10-25T21:35:31.827065",
     "exception": false,
     "start_time": "2020-10-25T21:35:31.795779",
     "status": "completed"
    },
    "tags": []
   },
   "source": [
    "So it looks like you were more likely to survive the disaster as a female. Interesting. \n",
    "\n",
    "Let's look at the breakdown for Pclass, or the class of cabin the individual was in on board. This is basically socioeconmic status for the passengers."
   ]
  },
  {
   "cell_type": "code",
   "execution_count": 7,
   "metadata": {
    "execution": {
     "iopub.execute_input": "2020-10-25T21:35:31.900183Z",
     "iopub.status.busy": "2020-10-25T21:35:31.894850Z",
     "iopub.status.idle": "2020-10-25T21:35:32.067675Z",
     "shell.execute_reply": "2020-10-25T21:35:32.067003Z"
    },
    "papermill": {
     "duration": 0.209074,
     "end_time": "2020-10-25T21:35:32.067790",
     "exception": false,
     "start_time": "2020-10-25T21:35:31.858716",
     "status": "completed"
    },
    "tags": []
   },
   "outputs": [
    {
     "data": {
      "image/png": "[encoded data removed]",
      "text/plain": [
       "<Figure size 1080x720 with 1 Axes>"
      ]
     },
     "metadata": {
      "needs_background": "light"
     },
     "output_type": "display_data"
    }
   ],
   "source": [
    "plt.subplots(figsize=(15,10))\n",
    "sns.countplot('Pclass',hue='Survived',data=df_train,palette='RdBu_r')\n",
    "plt.show()"
   ]
  },
  {
   "cell_type": "markdown",
   "metadata": {
    "papermill": {
     "duration": 0.03385,
     "end_time": "2020-10-25T21:35:32.134392",
     "exception": false,
     "start_time": "2020-10-25T21:35:32.100542",
     "status": "completed"
    },
    "tags": []
   },
   "source": [
    "Unsurprisingly, you were more likely to survive the disaster if you were a higher class passenger. Let's see what this first two factors (Pclass and Sex) look like charted together."
   ]
  },
  {
   "cell_type": "code",
   "execution_count": 8,
   "metadata": {
    "execution": {
     "iopub.execute_input": "2020-10-25T21:35:32.208112Z",
     "iopub.status.busy": "2020-10-25T21:35:32.207338Z",
     "iopub.status.idle": "2020-10-25T21:35:32.372525Z",
     "shell.execute_reply": "2020-10-25T21:35:32.371961Z"
    },
    "papermill": {
     "duration": 0.205262,
     "end_time": "2020-10-25T21:35:32.372635",
     "exception": false,
     "start_time": "2020-10-25T21:35:32.167373",
     "status": "completed"
    },
    "tags": []
   },
   "outputs": [
    {
     "data": {
      "text/plain": [
       "<matplotlib.axes._subplots.AxesSubplot at 0x7f1189030dd0>"
      ]
     },
     "execution_count": 8,
     "metadata": {},
     "output_type": "execute_result"
    },
    {
     "data": {
      "image/png": "[encoded data removed]",
      "text/plain": [
       "<Figure size 432x288 with 1 Axes>"
      ]
     },
     "metadata": {
      "needs_background": "light"
     },
     "output_type": "display_data"
    }
   ],
   "source": [
    "df_train.pivot_table('Survived', index='Sex', columns='Pclass').plot()"
   ]
  },
  {
   "cell_type": "markdown",
   "metadata": {
    "papermill": {
     "duration": 0.037995,
     "end_time": "2020-10-25T21:35:32.444566",
     "exception": false,
     "start_time": "2020-10-25T21:35:32.406571",
     "status": "completed"
    },
    "tags": []
   },
   "source": [
    "This chart really shows the disparity in survival rates between male and female passengers across all classes, but also the large gap in survival rates beteween classes for female passengers. Note that the survival rate is the y axis and the two ends fo the graph (left and right sides) represent female and male, respectively.\n",
    "\n",
    "The next factor we are going to look at is passenger age."
   ]
  },
  {
   "cell_type": "code",
   "execution_count": 9,
   "metadata": {
    "execution": {
     "iopub.execute_input": "2020-10-25T21:35:32.522524Z",
     "iopub.status.busy": "2020-10-25T21:35:32.516220Z",
     "iopub.status.idle": "2020-10-25T21:35:33.495585Z",
     "shell.execute_reply": "2020-10-25T21:35:33.494904Z"
    },
    "papermill": {
     "duration": 1.017647,
     "end_time": "2020-10-25T21:35:33.495722",
     "exception": false,
     "start_time": "2020-10-25T21:35:32.478075",
     "status": "completed"
    },
    "tags": []
   },
   "outputs": [
    {
     "data": {
      "image/png": "[encoded data removed]",
      "text/plain": [
       "<Figure size 1080x720 with 1 Axes>"
      ]
     },
     "metadata": {
      "needs_background": "light"
     },
     "output_type": "display_data"
    }
   ],
   "source": [
    "plt.subplots(figsize=(15,10))\n",
    "sns.countplot(df_train['Age'],label='Age')\n",
    "plt.show()"
   ]
  },
  {
   "cell_type": "markdown",
   "metadata": {
    "papermill": {
     "duration": 0.034356,
     "end_time": "2020-10-25T21:35:33.565054",
     "exception": false,
     "start_time": "2020-10-25T21:35:33.530698",
     "status": "completed"
    },
    "tags": []
   },
   "source": [
    "Not immediately all that helpful. Let's try breaking it into age groups."
   ]
  },
  {
   "cell_type": "code",
   "execution_count": 10,
   "metadata": {
    "execution": {
     "iopub.execute_input": "2020-10-25T21:35:33.647966Z",
     "iopub.status.busy": "2020-10-25T21:35:33.647284Z",
     "iopub.status.idle": "2020-10-25T21:35:33.797612Z",
     "shell.execute_reply": "2020-10-25T21:35:33.796961Z"
    },
    "papermill": {
     "duration": 0.192184,
     "end_time": "2020-10-25T21:35:33.797727",
     "exception": false,
     "start_time": "2020-10-25T21:35:33.605543",
     "status": "completed"
    },
    "tags": []
   },
   "outputs": [
    {
     "data": {
      "image/png": "[encoded data removed]",
      "text/plain": [
       "<Figure size 1080x720 with 1 Axes>"
      ]
     },
     "metadata": {
      "needs_background": "light"
     },
     "output_type": "display_data"
    }
   ],
   "source": [
    "age = pd.cut(df_train['Age'], [0,18,29,40,65,100])\n",
    "plt.subplots(figsize=(15,10))\n",
    "sns.countplot(age,label='Age')\n",
    "plt.show()"
   ]
  },
  {
   "cell_type": "markdown",
   "metadata": {
    "papermill": {
     "duration": 0.035285,
     "end_time": "2020-10-25T21:35:33.868537",
     "exception": false,
     "start_time": "2020-10-25T21:35:33.833252",
     "status": "completed"
    },
    "tags": []
   },
   "source": [
    "Interesting. We can see the general distribution of ages in our data set much easier in this grouping. Let's try looking at which age groups survived more often."
   ]
  },
  {
   "cell_type": "code",
   "execution_count": 11,
   "metadata": {
    "execution": {
     "iopub.execute_input": "2020-10-25T21:35:33.949907Z",
     "iopub.status.busy": "2020-10-25T21:35:33.949214Z",
     "iopub.status.idle": "2020-10-25T21:35:34.165136Z",
     "shell.execute_reply": "2020-10-25T21:35:34.164450Z"
    },
    "papermill": {
     "duration": 0.261263,
     "end_time": "2020-10-25T21:35:34.165249",
     "exception": false,
     "start_time": "2020-10-25T21:35:33.903986",
     "status": "completed"
    },
    "tags": []
   },
   "outputs": [
    {
     "data": {
      "image/png": "[encoded data removed]",
      "text/plain": [
       "<Figure size 1080x720 with 1 Axes>"
      ]
     },
     "metadata": {
      "needs_background": "light"
     },
     "output_type": "display_data"
    }
   ],
   "source": [
    "plt.subplots(figsize=(15,10))\n",
    "sns.countplot(age,hue='Survived',data=df_train,palette='RdBu_r')\n",
    "plt.show()"
   ]
  },
  {
   "cell_type": "markdown",
   "metadata": {
    "papermill": {
     "duration": 0.036327,
     "end_time": "2020-10-25T21:35:34.238403",
     "exception": false,
     "start_time": "2020-10-25T21:35:34.202076",
     "status": "completed"
    },
    "tags": []
   },
   "source": [
    "We can see that generally, children were more likely to survive, but we also know that females survived at a much higher rate. Let's look at gender and age together."
   ]
  },
  {
   "cell_type": "code",
   "execution_count": 12,
   "metadata": {
    "execution": {
     "iopub.execute_input": "2020-10-25T21:35:34.330696Z",
     "iopub.status.busy": "2020-10-25T21:35:34.328899Z",
     "iopub.status.idle": "2020-10-25T21:35:34.331599Z",
     "shell.execute_reply": "2020-10-25T21:35:34.329793Z"
    },
    "papermill": {
     "duration": 0.056707,
     "end_time": "2020-10-25T21:35:34.331763",
     "exception": false,
     "start_time": "2020-10-25T21:35:34.275056",
     "status": "completed"
    },
    "tags": []
   },
   "outputs": [],
   "source": [
    "df_train['Range'] = age"
   ]
  },
  {
   "cell_type": "code",
   "execution_count": 13,
   "metadata": {
    "execution": {
     "iopub.execute_input": "2020-10-25T21:35:34.418328Z",
     "iopub.status.busy": "2020-10-25T21:35:34.416060Z",
     "iopub.status.idle": "2020-10-25T21:35:34.874109Z",
     "shell.execute_reply": "2020-10-25T21:35:34.874614Z"
    },
    "papermill": {
     "duration": 0.501646,
     "end_time": "2020-10-25T21:35:34.874783",
     "exception": false,
     "start_time": "2020-10-25T21:35:34.373137",
     "status": "completed"
    },
    "tags": []
   },
   "outputs": [
    {
     "data": {
      "image/png": "[encoded data removed]",
      "text/plain": [
       "<Figure size 771.875x360 with 2 Axes>"
      ]
     },
     "metadata": {
      "needs_background": "light"
     },
     "output_type": "display_data"
    }
   ],
   "source": [
    "sns.catplot(x='Range', hue='Survived', col='Sex',\n",
    "                data=df_train, kind='count',saturation=.5);"
   ]
  },
  {
   "cell_type": "markdown",
   "metadata": {
    "papermill": {
     "duration": 0.041538,
     "end_time": "2020-10-25T21:35:34.958373",
     "exception": false,
     "start_time": "2020-10-25T21:35:34.916835",
     "status": "completed"
    },
    "tags": []
   },
   "source": [
    "Now we can really see the disparity in the survival rates. Let's try combining this with passenger class and see what we can get out."
   ]
  },
  {
   "cell_type": "code",
   "execution_count": 14,
   "metadata": {
    "execution": {
     "iopub.execute_input": "2020-10-25T21:35:35.055021Z",
     "iopub.status.busy": "2020-10-25T21:35:35.053985Z",
     "iopub.status.idle": "2020-10-25T21:35:35.537606Z",
     "shell.execute_reply": "2020-10-25T21:35:35.536937Z"
    },
    "papermill": {
     "duration": 0.53315,
     "end_time": "2020-10-25T21:35:35.537724",
     "exception": false,
     "start_time": "2020-10-25T21:35:35.004574",
     "status": "completed"
    },
    "tags": []
   },
   "outputs": [
    {
     "data": {
      "image/png": "[encoded data removed]",
      "text/plain": [
       "<Figure size 906.375x360 with 2 Axes>"
      ]
     },
     "metadata": {
      "needs_background": "light"
     },
     "output_type": "display_data"
    }
   ],
   "source": [
    "sns.catplot(x='Range',y='Survived', hue='Pclass', col='Sex',\n",
    "                data=df_train, kind='bar', ci=None, saturation=.5, aspect=1.2);"
   ]
  },
  {
   "cell_type": "markdown",
   "metadata": {
    "papermill": {
     "duration": 0.0383,
     "end_time": "2020-10-25T21:35:35.614705",
     "exception": false,
     "start_time": "2020-10-25T21:35:35.576405",
     "status": "completed"
    },
    "tags": []
   },
   "source": [
    "This graph shows the rate of sruvivale, from 0 to 1 (0% to 100%) for each class of passenger by age group. We can clearly see the disparity between sex and passenger class here. Females are much more likely to survive than males in every age group, but also across passenger classes. In fact, 3rd class females are generally more likely to survive than first or second class males of the same age group. \n",
    "\n",
    "Maybe Jack never stood a chance, door or no door.\n",
    "\n",
    "We also have data about people traveling alone or with someone. Let's take a look at that next."
   ]
  },
  {
   "cell_type": "code",
   "execution_count": 15,
   "metadata": {
    "execution": {
     "iopub.execute_input": "2020-10-25T21:35:35.713933Z",
     "iopub.status.busy": "2020-10-25T21:35:35.711243Z",
     "iopub.status.idle": "2020-10-25T21:35:35.898352Z",
     "shell.execute_reply": "2020-10-25T21:35:35.897704Z"
    },
    "papermill": {
     "duration": 0.244272,
     "end_time": "2020-10-25T21:35:35.898463",
     "exception": false,
     "start_time": "2020-10-25T21:35:35.654191",
     "status": "completed"
    },
    "tags": []
   },
   "outputs": [
    {
     "data": {
      "image/png": "[encoded data removed]",
      "text/plain": [
       "<Figure size 1080x720 with 1 Axes>"
      ]
     },
     "metadata": {
      "needs_background": "light"
     },
     "output_type": "display_data"
    }
   ],
   "source": [
    "plt.subplots(figsize=(15,10))\n",
    "sns.countplot('SibSp',hue='Survived',data=df_train,palette='RdBu_r')\n",
    "plt.xlabel('Siblings or Spouse Aboard')\n",
    "plt.legend(loc = 'upper right')\n",
    "plt.show()"
   ]
  },
  {
   "cell_type": "markdown",
   "metadata": {
    "papermill": {
     "duration": 0.038736,
     "end_time": "2020-10-25T21:35:35.976650",
     "exception": false,
     "start_time": "2020-10-25T21:35:35.937914",
     "status": "completed"
    },
    "tags": []
   },
   "source": [
    "This chart shows us the number of indidivudals who survived based on the number of Children or Spouses they were traveling with. The data combines those values, and seperating them would require assuming the number of children, so we are going to leave it be.\n",
    "\n",
    "We should probably break this down by Sex and Passenger Class, so we will do that next."
   ]
  },
  {
   "cell_type": "code",
   "execution_count": 16,
   "metadata": {
    "execution": {
     "iopub.execute_input": "2020-10-25T21:35:36.075209Z",
     "iopub.status.busy": "2020-10-25T21:35:36.064365Z",
     "iopub.status.idle": "2020-10-25T21:35:36.631172Z",
     "shell.execute_reply": "2020-10-25T21:35:36.630291Z"
    },
    "papermill": {
     "duration": 0.615538,
     "end_time": "2020-10-25T21:35:36.631297",
     "exception": false,
     "start_time": "2020-10-25T21:35:36.015759",
     "status": "completed"
    },
    "tags": []
   },
   "outputs": [
    {
     "data": {
      "image/png": "[encoded data removed]",
      "text/plain": [
       "<Figure size 906.375x360 with 2 Axes>"
      ]
     },
     "metadata": {
      "needs_background": "light"
     },
     "output_type": "display_data"
    }
   ],
   "source": [
    "sns.catplot(x='SibSp',y='Survived', hue='Pclass', col='Sex',\n",
    "                data=df_train, kind='bar', ci=None, saturation=.5, aspect=1.2);"
   ]
  },
  {
   "cell_type": "markdown",
   "metadata": {
    "papermill": {
     "duration": 0.039785,
     "end_time": "2020-10-25T21:35:36.711735",
     "exception": false,
     "start_time": "2020-10-25T21:35:36.671950",
     "status": "completed"
    },
    "tags": []
   },
   "source": [
    "Again, this is a chart that doesn't show count, but the chances of survival. It looks like females again out survived males accross the board. We can see that females in first and second class traveling with siblings (2 or 3, so we will assume they aren't spouses) universally survived. We will guess those are children for now, as it is really just a matter of curiosity and won't effect our approach to the overall problem.\n",
    "\n",
    "Let's look next at those individuals traveling with Parents or Children."
   ]
  },
  {
   "cell_type": "code",
   "execution_count": 17,
   "metadata": {
    "execution": {
     "iopub.execute_input": "2020-10-25T21:35:36.802634Z",
     "iopub.status.busy": "2020-10-25T21:35:36.801870Z",
     "iopub.status.idle": "2020-10-25T21:35:37.072061Z",
     "shell.execute_reply": "2020-10-25T21:35:37.071525Z"
    },
    "papermill": {
     "duration": 0.320308,
     "end_time": "2020-10-25T21:35:37.072169",
     "exception": false,
     "start_time": "2020-10-25T21:35:36.751861",
     "status": "completed"
    },
    "tags": []
   },
   "outputs": [
    {
     "data": {
      "image/png": "[encoded data removed]",
      "text/plain": [
       "<Figure size 1080x720 with 1 Axes>"
      ]
     },
     "metadata": {
      "needs_background": "light"
     },
     "output_type": "display_data"
    }
   ],
   "source": [
    "plt.subplots(figsize=(15,10))\n",
    "sns.countplot('Parch',hue='Survived',data=df_train,palette='RdBu_r')\n",
    "plt.xlabel('Parent or Child Aboard')\n",
    "plt.legend(loc = 'upper right')\n",
    "plt.show()"
   ]
  },
  {
   "cell_type": "markdown",
   "metadata": {
    "papermill": {
     "duration": 0.040342,
     "end_time": "2020-10-25T21:35:37.153323",
     "exception": false,
     "start_time": "2020-10-25T21:35:37.112981",
     "status": "completed"
    },
    "tags": []
   },
   "source": [
    "We can see that those traveling with a parent or child aboard had varying success. We should break this data down as well and see what we can derive from it."
   ]
  },
  {
   "cell_type": "code",
   "execution_count": 18,
   "metadata": {
    "execution": {
     "iopub.execute_input": "2020-10-25T21:35:37.258815Z",
     "iopub.status.busy": "2020-10-25T21:35:37.243414Z",
     "iopub.status.idle": "2020-10-25T21:35:37.748950Z",
     "shell.execute_reply": "2020-10-25T21:35:37.748251Z"
    },
    "papermill": {
     "duration": 0.553809,
     "end_time": "2020-10-25T21:35:37.749083",
     "exception": false,
     "start_time": "2020-10-25T21:35:37.195274",
     "status": "completed"
    },
    "tags": []
   },
   "outputs": [
    {
     "data": {
      "image/png": "[encoded data removed]",
      "text/plain": [
       "<Figure size 906.375x360 with 2 Axes>"
      ]
     },
     "metadata": {
      "needs_background": "light"
     },
     "output_type": "display_data"
    }
   ],
   "source": [
    "sns.catplot(x='Parch',y='Survived', hue='Pclass', col='Sex',\n",
    "                data=df_train, kind='bar', ci=None, saturation=.5, aspect=1.2);"
   ]
  },
  {
   "cell_type": "markdown",
   "metadata": {
    "papermill": {
     "duration": 0.041304,
     "end_time": "2020-10-25T21:35:37.832309",
     "exception": false,
     "start_time": "2020-10-25T21:35:37.791005",
     "status": "completed"
    },
    "tags": []
   },
   "source": [
    "Again, this is a chart that doesn't show count, but the chances of survival. It looks like females again out survived males accross the board. We can see that females in second class traveling with children (3, so we will assume they aren't parents) universally survived. We can also see that females in second class traveling with either both parents or 2 Children (which would mean they were aboard without a Spouse, which would likely have been rare) also universally survived. Interesting.\n",
    "\n",
    "We are getting close to the end of our exploration. Let's a look at fares next."
   ]
  },
  {
   "cell_type": "code",
   "execution_count": 19,
   "metadata": {
    "execution": {
     "iopub.execute_input": "2020-10-25T21:35:37.932212Z",
     "iopub.status.busy": "2020-10-25T21:35:37.931556Z",
     "iopub.status.idle": "2020-10-25T21:35:38.136901Z",
     "shell.execute_reply": "2020-10-25T21:35:38.136255Z"
    },
    "papermill": {
     "duration": 0.262863,
     "end_time": "2020-10-25T21:35:38.137023",
     "exception": false,
     "start_time": "2020-10-25T21:35:37.874160",
     "status": "completed"
    },
    "tags": []
   },
   "outputs": [
    {
     "data": {
      "image/png": "[encoded data removed]",
      "text/plain": [
       "<Figure size 1080x720 with 1 Axes>"
      ]
     },
     "metadata": {
      "needs_background": "light"
     },
     "output_type": "display_data"
    }
   ],
   "source": [
    "fares = pd.cut(df_train['Fare'], [0,50,100,150,200,250,300,350,400,450,1000])\n",
    "df_train['F_Range'] = fares\n",
    "\n",
    "plt.subplots(figsize=(15,10))\n",
    "sns.countplot('F_Range',hue='Survived',data=df_train,palette='RdBu_r')\n",
    "plt.xlabel('Fare Paid')\n",
    "plt.legend(loc = 'upper right')\n",
    "plt.show()"
   ]
  },
  {
   "cell_type": "markdown",
   "metadata": {
    "papermill": {
     "duration": 0.04208,
     "end_time": "2020-10-25T21:35:38.221851",
     "exception": false,
     "start_time": "2020-10-25T21:35:38.179771",
     "status": "completed"
    },
    "tags": []
   },
   "source": [
    "Well, that isn't very helpful. We can see that people who paid more survived at a highger rate, but we could have assumed that from the passenger class data. Let's break it down by that as well and see if that helps."
   ]
  },
  {
   "cell_type": "code",
   "execution_count": 20,
   "metadata": {
    "execution": {
     "iopub.execute_input": "2020-10-25T21:35:38.315578Z",
     "iopub.status.busy": "2020-10-25T21:35:38.311914Z",
     "iopub.status.idle": "2020-10-25T21:35:39.213367Z",
     "shell.execute_reply": "2020-10-25T21:35:39.213894Z"
    },
    "papermill": {
     "duration": 0.950071,
     "end_time": "2020-10-25T21:35:39.214056",
     "exception": false,
     "start_time": "2020-10-25T21:35:38.263985",
     "status": "completed"
    },
    "tags": []
   },
   "outputs": [
    {
     "data": {
      "image/png": "[encoded data removed]",
      "text/plain": [
       "<Figure size 771.875x1080 with 3 Axes>"
      ]
     },
     "metadata": {
      "needs_background": "light"
     },
     "output_type": "display_data"
    }
   ],
   "source": [
    "sns.catplot(x='F_Range', hue='Survived', col='Pclass',\n",
    "                data=df_train, kind='count', saturation=.5, aspect=2, col_wrap=1);"
   ]
  },
  {
   "cell_type": "markdown",
   "metadata": {
    "papermill": {
     "duration": 0.043067,
     "end_time": "2020-10-25T21:35:39.301355",
     "exception": false,
     "start_time": "2020-10-25T21:35:39.258288",
     "status": "completed"
    },
    "tags": []
   },
   "source": [
    "Interesting. Paying more within First Class made you more likely to survive? I'm not sure that's completely causal, but the relationship is interesting. Let's add in the Sex data, since we know that there is always something to that."
   ]
  },
  {
   "cell_type": "code",
   "execution_count": 21,
   "metadata": {
    "execution": {
     "iopub.execute_input": "2020-10-25T21:35:39.396486Z",
     "iopub.status.busy": "2020-10-25T21:35:39.395198Z",
     "iopub.status.idle": "2020-10-25T21:35:40.036788Z",
     "shell.execute_reply": "2020-10-25T21:35:40.036120Z"
    },
    "papermill": {
     "duration": 0.691456,
     "end_time": "2020-10-25T21:35:40.036909",
     "exception": false,
     "start_time": "2020-10-25T21:35:39.345453",
     "status": "completed"
    },
    "tags": []
   },
   "outputs": [
    {
     "data": {
      "image/png": "[encoded data removed]",
      "text/plain": [
       "<Figure size 762.375x720 with 2 Axes>"
      ]
     },
     "metadata": {
      "needs_background": "light"
     },
     "output_type": "display_data"
    }
   ],
   "source": [
    "sns.catplot(x='F_Range',y='Survived', hue='Pclass', col='Sex',\n",
    "                data=df_train, kind='bar', ci=None, saturation=.5, aspect=2, col_wrap=1);"
   ]
  },
  {
   "cell_type": "markdown",
   "metadata": {
    "papermill": {
     "duration": 0.045382,
     "end_time": "2020-10-25T21:35:40.127412",
     "exception": false,
     "start_time": "2020-10-25T21:35:40.082030",
     "status": "completed"
    },
    "tags": []
   },
   "source": [
    "Here is a very intriguing find. Males who paid more for third class tickets survived a little more than twice as often as males who paid less for third class tickets. I guess we will keep that in our model!"
   ]
  },
  {
   "cell_type": "markdown",
   "metadata": {
    "papermill": {
     "duration": 0.043937,
     "end_time": "2020-10-25T21:35:40.215369",
     "exception": false,
     "start_time": "2020-10-25T21:35:40.171432",
     "status": "completed"
    },
    "tags": []
   },
   "source": [
    "## Categories for Model Building\n",
    "\n",
    "I think we have a good handle on what is in the data and what patterns we see. The remaining data points (Name, Cabin Number, Embarkation Point, and Ticket Number) don't seem like they would be helpful to our predictive model, and could lead to errors if included. To confirm this thinking, let's look at the correlations for each point with sruvival rate."
   ]
  },
  {
   "cell_type": "code",
   "execution_count": 22,
   "metadata": {
    "execution": {
     "iopub.execute_input": "2020-10-25T21:35:40.313527Z",
     "iopub.status.busy": "2020-10-25T21:35:40.312495Z",
     "iopub.status.idle": "2020-10-25T21:35:40.747692Z",
     "shell.execute_reply": "2020-10-25T21:35:40.748173Z"
    },
    "papermill": {
     "duration": 0.488689,
     "end_time": "2020-10-25T21:35:40.748306",
     "exception": false,
     "start_time": "2020-10-25T21:35:40.259617",
     "status": "completed"
    },
    "tags": []
   },
   "outputs": [
    {
     "data": {
      "image/png": "[encoded data removed]",
      "text/plain": [
       "<Figure size 1152x864 with 2 Axes>"
      ]
     },
     "metadata": {
      "needs_background": "light"
     },
     "output_type": "display_data"
    }
   ],
   "source": [
    "df_corr = pd.read_csv('/kaggle/input/titanic/train.csv') # pulling a clean copy without our added columns\n",
    "\n",
    "df_corr = pd.get_dummies(df_corr, columns=['Sex','Pclass'],\n",
    "                        drop_first=True)\n",
    "\n",
    "# Let's drop some data from the frame that we know isn't helpful\n",
    "df_corr.drop(['Name','Ticket','Cabin','Embarked','PassengerId'], axis=1, inplace=True)\n",
    "\n",
    "corr=df_corr.corr()\n",
    "\n",
    "plt.figure(figsize=(16,12))\n",
    "sns.heatmap(corr,annot=True,fmt='.2f')\n",
    "plt.show()"
   ]
  },
  {
   "cell_type": "markdown",
   "metadata": {
    "papermill": {
     "duration": 0.045606,
     "end_time": "2020-10-25T21:35:40.840476",
     "exception": false,
     "start_time": "2020-10-25T21:35:40.794870",
     "status": "completed"
    },
    "tags": []
   },
   "source": [
    "We can see by looking at the top row that the strongest correlations exist between Sex, Passenger Class, and Fare Paid, with weaker correlations to Age and Traveling Companion numbers. We will still keep the weak correlations in the data set for our model, however.\n",
    "\n",
    "### Deciding on a Model Type\n",
    "\n",
    "So one approach to this problem would be to use a decision tree, because we have categories that we can look at as branch points. The issue is that a single tree for data with this many points would be massive and likely inaccurate. The solution? A forest.\n",
    "\n",
    "There is a model known as a Random Forest that uses multiple (hundreds) of trees and assignes values based on which gets the most 'votes', or what the most common result is between all the trees. It works particularly well on values with ranges, like our data set. Let's plan on using that."
   ]
  },
  {
   "cell_type": "code",
   "execution_count": 23,
   "metadata": {
    "execution": {
     "iopub.execute_input": "2020-10-25T21:35:40.937724Z",
     "iopub.status.busy": "2020-10-25T21:35:40.937033Z",
     "iopub.status.idle": "2020-10-25T21:35:41.304332Z",
     "shell.execute_reply": "2020-10-25T21:35:41.303680Z"
    },
    "papermill": {
     "duration": 0.417616,
     "end_time": "2020-10-25T21:35:41.304440",
     "exception": false,
     "start_time": "2020-10-25T21:35:40.886824",
     "status": "completed"
    },
    "tags": []
   },
   "outputs": [],
   "source": [
    "from sklearn.ensemble import RandomForestClassifier"
   ]
  },
  {
   "cell_type": "markdown",
   "metadata": {
    "papermill": {
     "duration": 0.046145,
     "end_time": "2020-10-25T21:35:41.398152",
     "exception": false,
     "start_time": "2020-10-25T21:35:41.352007",
     "status": "completed"
    },
    "tags": []
   },
   "source": [
    "## Gathering the Pieces"
   ]
  },
  {
   "cell_type": "markdown",
   "metadata": {
    "papermill": {
     "duration": 0.045818,
     "end_time": "2020-10-25T21:35:41.489945",
     "exception": false,
     "start_time": "2020-10-25T21:35:41.444127",
     "status": "completed"
    },
    "tags": []
   },
   "source": [
    "From some various modeling and testing, We found good values for the number of 'trees' to use, as well as how many 'branches' they should have. We will set those values to variables for use later."
   ]
  },
  {
   "cell_type": "code",
   "execution_count": 24,
   "metadata": {
    "execution": {
     "iopub.execute_input": "2020-10-25T21:35:41.587278Z",
     "iopub.status.busy": "2020-10-25T21:35:41.586454Z",
     "iopub.status.idle": "2020-10-25T21:35:41.588998Z",
     "shell.execute_reply": "2020-10-25T21:35:41.588377Z"
    },
    "papermill": {
     "duration": 0.052868,
     "end_time": "2020-10-25T21:35:41.589114",
     "exception": false,
     "start_time": "2020-10-25T21:35:41.536246",
     "status": "completed"
    },
    "tags": []
   },
   "outputs": [],
   "source": [
    "trees = 106\n",
    "branches = 5"
   ]
  },
  {
   "cell_type": "markdown",
   "metadata": {
    "papermill": {
     "duration": 0.046288,
     "end_time": "2020-10-25T21:35:41.724968",
     "exception": false,
     "start_time": "2020-10-25T21:35:41.678680",
     "status": "completed"
    },
    "tags": []
   },
   "source": [
    "We also have decided on our features, so let's set that up as well."
   ]
  },
  {
   "cell_type": "code",
   "execution_count": 25,
   "metadata": {
    "execution": {
     "iopub.execute_input": "2020-10-25T21:35:41.822067Z",
     "iopub.status.busy": "2020-10-25T21:35:41.821407Z",
     "iopub.status.idle": "2020-10-25T21:35:41.823990Z",
     "shell.execute_reply": "2020-10-25T21:35:41.823430Z"
    },
    "papermill": {
     "duration": 0.052806,
     "end_time": "2020-10-25T21:35:41.824102",
     "exception": false,
     "start_time": "2020-10-25T21:35:41.771296",
     "status": "completed"
    },
    "tags": []
   },
   "outputs": [],
   "source": [
    "features = ['Pclass', 'Sex', 'Range', 'SibSp', 'Parch','F_Range']"
   ]
  },
  {
   "cell_type": "markdown",
   "metadata": {
    "papermill": {
     "duration": 0.04568,
     "end_time": "2020-10-25T21:35:41.915860",
     "exception": false,
     "start_time": "2020-10-25T21:35:41.870180",
     "status": "completed"
    },
    "tags": []
   },
   "source": [
    "Now, before we can make the model and run it, we need to prepare the data. We will use our modified train data set with the categories for age and fare, but we are going to need to do the same modifications to the testing set. Let's get everything ready to go."
   ]
  },
  {
   "cell_type": "code",
   "execution_count": 26,
   "metadata": {
    "execution": {
     "iopub.execute_input": "2020-10-25T21:35:42.034023Z",
     "iopub.status.busy": "2020-10-25T21:35:42.033082Z",
     "iopub.status.idle": "2020-10-25T21:35:42.054247Z",
     "shell.execute_reply": "2020-10-25T21:35:42.053684Z"
    },
    "papermill": {
     "duration": 0.088111,
     "end_time": "2020-10-25T21:35:42.054368",
     "exception": false,
     "start_time": "2020-10-25T21:35:41.966257",
     "status": "completed"
    },
    "tags": []
   },
   "outputs": [],
   "source": [
    "df_test = pd.read_csv(\"/kaggle/input/titanic/test.csv\") # import testing set\n",
    "\n",
    "# add fare ranges\n",
    "test_fares = pd.cut(df_test['Fare'], [0,50,100,150,200,250,300,350,400,450,1000])\n",
    "df_test['F_Range'] = test_fares\n",
    "\n",
    "# add age ranges\n",
    "test_age = pd.cut(df_test['Age'], [0,18,29,40,65,100])\n",
    "df_test['Range'] = test_age"
   ]
  },
  {
   "cell_type": "code",
   "execution_count": 27,
   "metadata": {
    "execution": {
     "iopub.execute_input": "2020-10-25T21:35:42.166630Z",
     "iopub.status.busy": "2020-10-25T21:35:42.165786Z",
     "iopub.status.idle": "2020-10-25T21:35:42.170120Z",
     "shell.execute_reply": "2020-10-25T21:35:42.169494Z"
    },
    "papermill": {
     "duration": 0.068804,
     "end_time": "2020-10-25T21:35:42.170230",
     "exception": false,
     "start_time": "2020-10-25T21:35:42.101426",
     "status": "completed"
    },
    "tags": []
   },
   "outputs": [
    {
     "data": {
      "text/html": [
       "<div>\n",
       "<style scoped>\n",
       "    .dataframe tbody tr th:only-of-type {\n",
       "        vertical-align: middle;\n",
       "    }\n",
       "\n",
       "    .dataframe tbody tr th {\n",
       "        vertical-align: top;\n",
       "    }\n",
       "\n",
       "    .dataframe thead th {\n",
       "        text-align: right;\n",
       "    }\n",
       "</style>\n",
       "<table border=\"1\" class=\"dataframe\">\n",
       "  <thead>\n",
       "    <tr style=\"text-align: right;\">\n",
       "      <th></th>\n",
       "      <th>PassengerId</th>\n",
       "      <th>Pclass</th>\n",
       "      <th>Name</th>\n",
       "      <th>Sex</th>\n",
       "      <th>Age</th>\n",
       "      <th>SibSp</th>\n",
       "      <th>Parch</th>\n",
       "      <th>Ticket</th>\n",
       "      <th>Fare</th>\n",
       "      <th>Cabin</th>\n",
       "      <th>Embarked</th>\n",
       "      <th>F_Range</th>\n",
       "      <th>Range</th>\n",
       "    </tr>\n",
       "  </thead>\n",
       "  <tbody>\n",
       "    <tr>\n",
       "      <th>0</th>\n",
       "      <td>892</td>\n",
       "      <td>3</td>\n",
       "      <td>Kelly, Mr. James</td>\n",
       "      <td>male</td>\n",
       "      <td>34.5</td>\n",
       "      <td>0</td>\n",
       "      <td>0</td>\n",
       "      <td>330911</td>\n",
       "      <td>7.8292</td>\n",
       "      <td>NaN</td>\n",
       "      <td>Q</td>\n",
       "      <td>(0, 50]</td>\n",
       "      <td>(29, 40]</td>\n",
       "    </tr>\n",
       "    <tr>\n",
       "      <th>1</th>\n",
       "      <td>893</td>\n",
       "      <td>3</td>\n",
       "      <td>Wilkes, Mrs. James (Ellen Needs)</td>\n",
       "      <td>female</td>\n",
       "      <td>47.0</td>\n",
       "      <td>1</td>\n",
       "      <td>0</td>\n",
       "      <td>363272</td>\n",
       "      <td>7.0000</td>\n",
       "      <td>NaN</td>\n",
       "      <td>S</td>\n",
       "      <td>(0, 50]</td>\n",
       "      <td>(40, 65]</td>\n",
       "    </tr>\n",
       "    <tr>\n",
       "      <th>2</th>\n",
       "      <td>894</td>\n",
       "      <td>2</td>\n",
       "      <td>Myles, Mr. Thomas Francis</td>\n",
       "      <td>male</td>\n",
       "      <td>62.0</td>\n",
       "      <td>0</td>\n",
       "      <td>0</td>\n",
       "      <td>240276</td>\n",
       "      <td>9.6875</td>\n",
       "      <td>NaN</td>\n",
       "      <td>Q</td>\n",
       "      <td>(0, 50]</td>\n",
       "      <td>(40, 65]</td>\n",
       "    </tr>\n",
       "    <tr>\n",
       "      <th>3</th>\n",
       "      <td>895</td>\n",
       "      <td>3</td>\n",
       "      <td>Wirz, Mr. Albert</td>\n",
       "      <td>male</td>\n",
       "      <td>27.0</td>\n",
       "      <td>0</td>\n",
       "      <td>0</td>\n",
       "      <td>315154</td>\n",
       "      <td>8.6625</td>\n",
       "      <td>NaN</td>\n",
       "      <td>S</td>\n",
       "      <td>(0, 50]</td>\n",
       "      <td>(18, 29]</td>\n",
       "    </tr>\n",
       "    <tr>\n",
       "      <th>4</th>\n",
       "      <td>896</td>\n",
       "      <td>3</td>\n",
       "      <td>Hirvonen, Mrs. Alexander (Helga E Lindqvist)</td>\n",
       "      <td>female</td>\n",
       "      <td>22.0</td>\n",
       "      <td>1</td>\n",
       "      <td>1</td>\n",
       "      <td>3101298</td>\n",
       "      <td>12.2875</td>\n",
       "      <td>NaN</td>\n",
       "      <td>S</td>\n",
       "      <td>(0, 50]</td>\n",
       "      <td>(18, 29]</td>\n",
       "    </tr>\n",
       "  </tbody>\n",
       "</table>\n",
       "</div>"
      ],
      "text/plain": [
       "   PassengerId  Pclass                                          Name     Sex  \\\n",
       "0          892       3                              Kelly, Mr. James    male   \n",
       "1          893       3              Wilkes, Mrs. James (Ellen Needs)  female   \n",
       "2          894       2                     Myles, Mr. Thomas Francis    male   \n",
       "3          895       3                              Wirz, Mr. Albert    male   \n",
       "4          896       3  Hirvonen, Mrs. Alexander (Helga E Lindqvist)  female   \n",
       "\n",
       "    Age  SibSp  Parch   Ticket     Fare Cabin Embarked  F_Range     Range  \n",
       "0  34.5      0      0   330911   7.8292   NaN        Q  (0, 50]  (29, 40]  \n",
       "1  47.0      1      0   363272   7.0000   NaN        S  (0, 50]  (40, 65]  \n",
       "2  62.0      0      0   240276   9.6875   NaN        Q  (0, 50]  (40, 65]  \n",
       "3  27.0      0      0   315154   8.6625   NaN        S  (0, 50]  (18, 29]  \n",
       "4  22.0      1      1  3101298  12.2875   NaN        S  (0, 50]  (18, 29]  "
      ]
     },
     "execution_count": 27,
     "metadata": {},
     "output_type": "execute_result"
    }
   ],
   "source": [
    "df_test.head()"
   ]
  },
  {
   "cell_type": "markdown",
   "metadata": {
    "papermill": {
     "duration": 0.046416,
     "end_time": "2020-10-25T21:35:42.264311",
     "exception": false,
     "start_time": "2020-10-25T21:35:42.217895",
     "status": "completed"
    },
    "tags": []
   },
   "source": [
    "Looks like that worked. We can see that there isn't any 'Survived' category in the testing set, but that's exactly what we are trying to predict, so that's expected. Otherwise, I think this is ready to build. \n",
    "\n",
    "One final thing, tho. We need to normalize and sanitize the data for the model, so we are going to do some one-hot encoding and pass it through an imputer before we build and run the model. Nothing out of the ordinary with that, but I wanted to point it out."
   ]
  },
  {
   "cell_type": "code",
   "execution_count": 28,
   "metadata": {
    "execution": {
     "iopub.execute_input": "2020-10-25T21:35:42.362999Z",
     "iopub.status.busy": "2020-10-25T21:35:42.362349Z",
     "iopub.status.idle": "2020-10-25T21:35:42.370255Z",
     "shell.execute_reply": "2020-10-25T21:35:42.369636Z"
    },
    "papermill": {
     "duration": 0.059124,
     "end_time": "2020-10-25T21:35:42.370359",
     "exception": false,
     "start_time": "2020-10-25T21:35:42.311235",
     "status": "completed"
    },
    "tags": []
   },
   "outputs": [],
   "source": [
    "from sklearn.impute import SimpleImputer\n",
    "\n",
    "my_imputer = SimpleImputer()"
   ]
  },
  {
   "cell_type": "markdown",
   "metadata": {
    "papermill": {
     "duration": 0.04765,
     "end_time": "2020-10-25T21:35:42.466075",
     "exception": false,
     "start_time": "2020-10-25T21:35:42.418425",
     "status": "completed"
    },
    "tags": []
   },
   "source": [
    "Now that we have our imputer, we are ready to build our model and run it. Let's get to it!"
   ]
  },
  {
   "cell_type": "code",
   "execution_count": 29,
   "metadata": {
    "execution": {
     "iopub.execute_input": "2020-10-25T21:35:42.572897Z",
     "iopub.status.busy": "2020-10-25T21:35:42.570147Z",
     "iopub.status.idle": "2020-10-25T21:35:43.043058Z",
     "shell.execute_reply": "2020-10-25T21:35:43.042345Z"
    },
    "papermill": {
     "duration": 0.52909,
     "end_time": "2020-10-25T21:35:43.043188",
     "exception": false,
     "start_time": "2020-10-25T21:35:42.514098",
     "status": "completed"
    },
    "tags": []
   },
   "outputs": [
    {
     "name": "stdout",
     "output_type": "stream",
     "text": [
      "Done.\n"
     ]
    }
   ],
   "source": [
    "y = df_train['Survived']\n",
    "\n",
    "X = pd.get_dummies(df_train[features])\n",
    "X_imp = my_imputer.fit_transform(X)\n",
    "X_test = pd.get_dummies(df_test[features])\n",
    "X_test_imp = my_imputer.fit_transform(X_test)\n",
    "forest =  RandomForestClassifier(n_estimators=trees,\n",
    "                                 max_depth=branches,\n",
    "                                 random_state=1)\n",
    "forest.fit(X_imp,y)\n",
    "prediction = forest.predict(X_test_imp)\n",
    "\n",
    "output = pd.DataFrame({'PassengerId': df_test.PassengerId,\n",
    "                       'Survived': prediction})\n",
    "output.to_csv('my_submission.csv', index=False)\n",
    "print('Done.')"
   ]
  },
  {
   "cell_type": "markdown",
   "metadata": {
    "papermill": {
     "duration": 0.048289,
     "end_time": "2020-10-25T21:35:43.140242",
     "exception": false,
     "start_time": "2020-10-25T21:35:43.091953",
     "status": "completed"
    },
    "tags": []
   },
   "source": [
    "## Results"
   ]
  },
  {
   "cell_type": "markdown",
   "metadata": {
    "papermill": {
     "duration": 0.04783,
     "end_time": "2020-10-25T21:35:43.236965",
     "exception": false,
     "start_time": "2020-10-25T21:35:43.189135",
     "status": "completed"
    },
    "tags": []
   },
   "source": [
    "So we got the following data out of our Random Forst model."
   ]
  },
  {
   "cell_type": "code",
   "execution_count": 30,
   "metadata": {
    "execution": {
     "iopub.execute_input": "2020-10-25T21:35:43.341915Z",
     "iopub.status.busy": "2020-10-25T21:35:43.341042Z",
     "iopub.status.idle": "2020-10-25T21:35:43.345475Z",
     "shell.execute_reply": "2020-10-25T21:35:43.345012Z"
    },
    "papermill": {
     "duration": 0.060824,
     "end_time": "2020-10-25T21:35:43.345626",
     "exception": false,
     "start_time": "2020-10-25T21:35:43.284802",
     "status": "completed"
    },
    "tags": []
   },
   "outputs": [
    {
     "data": {
      "text/html": [
       "<div>\n",
       "<style scoped>\n",
       "    .dataframe tbody tr th:only-of-type {\n",
       "        vertical-align: middle;\n",
       "    }\n",
       "\n",
       "    .dataframe tbody tr th {\n",
       "        vertical-align: top;\n",
       "    }\n",
       "\n",
       "    .dataframe thead th {\n",
       "        text-align: right;\n",
       "    }\n",
       "</style>\n",
       "<table border=\"1\" class=\"dataframe\">\n",
       "  <thead>\n",
       "    <tr style=\"text-align: right;\">\n",
       "      <th></th>\n",
       "      <th>PassengerId</th>\n",
       "      <th>Survived</th>\n",
       "    </tr>\n",
       "  </thead>\n",
       "  <tbody>\n",
       "    <tr>\n",
       "      <th>0</th>\n",
       "      <td>892</td>\n",
       "      <td>0</td>\n",
       "    </tr>\n",
       "    <tr>\n",
       "      <th>1</th>\n",
       "      <td>893</td>\n",
       "      <td>1</td>\n",
       "    </tr>\n",
       "    <tr>\n",
       "      <th>2</th>\n",
       "      <td>894</td>\n",
       "      <td>0</td>\n",
       "    </tr>\n",
       "    <tr>\n",
       "      <th>3</th>\n",
       "      <td>895</td>\n",
       "      <td>0</td>\n",
       "    </tr>\n",
       "    <tr>\n",
       "      <th>4</th>\n",
       "      <td>896</td>\n",
       "      <td>1</td>\n",
       "    </tr>\n",
       "  </tbody>\n",
       "</table>\n",
       "</div>"
      ],
      "text/plain": [
       "   PassengerId  Survived\n",
       "0          892         0\n",
       "1          893         1\n",
       "2          894         0\n",
       "3          895         0\n",
       "4          896         1"
      ]
     },
     "execution_count": 30,
     "metadata": {},
     "output_type": "execute_result"
    }
   ],
   "source": [
    "output.head()"
   ]
  },
  {
   "cell_type": "markdown",
   "metadata": {
    "papermill": {
     "duration": 0.047881,
     "end_time": "2020-10-25T21:35:43.442572",
     "exception": false,
     "start_time": "2020-10-25T21:35:43.394691",
     "status": "completed"
    },
    "tags": []
   },
   "source": [
    "This was good for 77.99% accurate on the Kaggle submissions board. Okay, but not great. I'm not sure we can tune this model for much better accuracy. Perhaps there is another approach, but I am ready to move on from the Titanic and take on another problem. See you next time!"
   ]
  },
  {
   "cell_type": "code",
   "execution_count": null,
   "metadata": {
    "papermill": {
     "duration": 0.04767,
     "end_time": "2020-10-25T21:35:43.538858",
     "exception": false,
     "start_time": "2020-10-25T21:35:43.491188",
     "status": "completed"
    },
    "tags": []
   },
   "outputs": [],
   "source": []
  }
 ],
 "metadata": {
  "kernelspec": {
   "display_name": "Python 3",
   "language": "python",
   "name": "python3"
  },
  "language_info": {
   "codemirror_mode": {
    "name": "ipython",
    "version": 3
   },
   "file_extension": ".py",
   "mimetype": "text/x-python",
   "name": "python",
   "nbconvert_exporter": "python",
   "pygments_lexer": "ipython3",
   "version": "3.7.6"
  },
  "papermill": {
   "duration": 17.657709,
   "end_time": "2020-10-25T21:35:43.697842",
   "environment_variables": {},
   "exception": null,
   "input_path": "__notebook__.ipynb",
   "output_path": "__notebook__.ipynb",
   "parameters": {},
   "start_time": "2020-10-25T21:35:26.040133",
   "version": "2.1.0"
  }
 },
 "nbformat": 4,
 "nbformat_minor": 4
}
